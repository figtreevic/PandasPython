{
 "cells": [
  {
   "cell_type": "code",
   "execution_count": 1,
   "id": "f7603a2a",
   "metadata": {},
   "outputs": [],
   "source": [
    "import pandas as pd"
   ]
  },
  {
   "cell_type": "code",
   "execution_count": 2,
   "id": "bac679fe",
   "metadata": {},
   "outputs": [],
   "source": [
    "dados = pd.read_csv('dados_residencial_final_v3.csv', sep = ';')"
   ]
  },
  {
   "cell_type": "code",
   "execution_count": 3,
   "id": "4392ced9",
   "metadata": {},
   "outputs": [
    {
     "data": {
      "text/html": [
       "<div>\n",
       "<style scoped>\n",
       "    .dataframe tbody tr th:only-of-type {\n",
       "        vertical-align: middle;\n",
       "    }\n",
       "\n",
       "    .dataframe tbody tr th {\n",
       "        vertical-align: top;\n",
       "    }\n",
       "\n",
       "    .dataframe thead th {\n",
       "        text-align: right;\n",
       "    }\n",
       "</style>\n",
       "<table border=\"1\" class=\"dataframe\">\n",
       "  <thead>\n",
       "    <tr style=\"text-align: right;\">\n",
       "      <th></th>\n",
       "      <th>Tipo</th>\n",
       "      <th>Bairro</th>\n",
       "      <th>Quartos</th>\n",
       "      <th>Vagas</th>\n",
       "      <th>Suites</th>\n",
       "      <th>Area</th>\n",
       "      <th>Valor</th>\n",
       "      <th>Condominio</th>\n",
       "      <th>IPTU</th>\n",
       "      <th>Valor por m2</th>\n",
       "      <th>Tipo Agregado</th>\n",
       "    </tr>\n",
       "  </thead>\n",
       "  <tbody>\n",
       "    <tr>\n",
       "      <th>13724</th>\n",
       "      <td>Apartamento</td>\n",
       "      <td>Leblon</td>\n",
       "      <td>2</td>\n",
       "      <td>1</td>\n",
       "      <td>1</td>\n",
       "      <td>85</td>\n",
       "      <td>4000.0</td>\n",
       "      <td>1050.0</td>\n",
       "      <td>230.0</td>\n",
       "      <td>47.06</td>\n",
       "      <td>Apartamento</td>\n",
       "    </tr>\n",
       "    <tr>\n",
       "      <th>8680</th>\n",
       "      <td>Apartamento</td>\n",
       "      <td>Botafogo</td>\n",
       "      <td>2</td>\n",
       "      <td>1</td>\n",
       "      <td>1</td>\n",
       "      <td>90</td>\n",
       "      <td>3200.0</td>\n",
       "      <td>920.0</td>\n",
       "      <td>130.0</td>\n",
       "      <td>35.56</td>\n",
       "      <td>Apartamento</td>\n",
       "    </tr>\n",
       "    <tr>\n",
       "      <th>11146</th>\n",
       "      <td>Apartamento</td>\n",
       "      <td>Recreio dos Bandeirantes</td>\n",
       "      <td>4</td>\n",
       "      <td>2</td>\n",
       "      <td>4</td>\n",
       "      <td>190</td>\n",
       "      <td>3950.0</td>\n",
       "      <td>1290.0</td>\n",
       "      <td>300.0</td>\n",
       "      <td>20.79</td>\n",
       "      <td>Apartamento</td>\n",
       "    </tr>\n",
       "    <tr>\n",
       "      <th>8282</th>\n",
       "      <td>Apartamento</td>\n",
       "      <td>Recreio dos Bandeirantes</td>\n",
       "      <td>3</td>\n",
       "      <td>2</td>\n",
       "      <td>1</td>\n",
       "      <td>109</td>\n",
       "      <td>2500.0</td>\n",
       "      <td>842.0</td>\n",
       "      <td>192.0</td>\n",
       "      <td>22.94</td>\n",
       "      <td>Apartamento</td>\n",
       "    </tr>\n",
       "    <tr>\n",
       "      <th>18410</th>\n",
       "      <td>Apartamento</td>\n",
       "      <td>Península</td>\n",
       "      <td>2</td>\n",
       "      <td>2</td>\n",
       "      <td>2</td>\n",
       "      <td>98</td>\n",
       "      <td>3200.0</td>\n",
       "      <td>1388.0</td>\n",
       "      <td>235.0</td>\n",
       "      <td>32.65</td>\n",
       "      <td>Apartamento</td>\n",
       "    </tr>\n",
       "    <tr>\n",
       "      <th>17209</th>\n",
       "      <td>Apartamento</td>\n",
       "      <td>Ipanema</td>\n",
       "      <td>4</td>\n",
       "      <td>1</td>\n",
       "      <td>1</td>\n",
       "      <td>250</td>\n",
       "      <td>12000.0</td>\n",
       "      <td>3795.0</td>\n",
       "      <td>7384.0</td>\n",
       "      <td>48.00</td>\n",
       "      <td>Apartamento</td>\n",
       "    </tr>\n",
       "    <tr>\n",
       "      <th>11394</th>\n",
       "      <td>Apartamento</td>\n",
       "      <td>Laranjeiras</td>\n",
       "      <td>2</td>\n",
       "      <td>0</td>\n",
       "      <td>0</td>\n",
       "      <td>65</td>\n",
       "      <td>2100.0</td>\n",
       "      <td>817.0</td>\n",
       "      <td>28.0</td>\n",
       "      <td>32.31</td>\n",
       "      <td>Apartamento</td>\n",
       "    </tr>\n",
       "    <tr>\n",
       "      <th>17686</th>\n",
       "      <td>Apartamento</td>\n",
       "      <td>Leme</td>\n",
       "      <td>2</td>\n",
       "      <td>0</td>\n",
       "      <td>0</td>\n",
       "      <td>75</td>\n",
       "      <td>2700.0</td>\n",
       "      <td>878.0</td>\n",
       "      <td>0.0</td>\n",
       "      <td>36.00</td>\n",
       "      <td>Apartamento</td>\n",
       "    </tr>\n",
       "    <tr>\n",
       "      <th>17932</th>\n",
       "      <td>Apartamento</td>\n",
       "      <td>São Conrado</td>\n",
       "      <td>2</td>\n",
       "      <td>2</td>\n",
       "      <td>2</td>\n",
       "      <td>110</td>\n",
       "      <td>4500.0</td>\n",
       "      <td>2357.0</td>\n",
       "      <td>735.0</td>\n",
       "      <td>40.91</td>\n",
       "      <td>Apartamento</td>\n",
       "    </tr>\n",
       "    <tr>\n",
       "      <th>12687</th>\n",
       "      <td>Apartamento</td>\n",
       "      <td>Copacabana</td>\n",
       "      <td>4</td>\n",
       "      <td>1</td>\n",
       "      <td>0</td>\n",
       "      <td>141</td>\n",
       "      <td>4500.0</td>\n",
       "      <td>1139.0</td>\n",
       "      <td>378.0</td>\n",
       "      <td>31.91</td>\n",
       "      <td>Apartamento</td>\n",
       "    </tr>\n",
       "  </tbody>\n",
       "</table>\n",
       "</div>"
      ],
      "text/plain": [
       "              Tipo                    Bairro  Quartos  Vagas  Suites  Area  \\\n",
       "13724  Apartamento                    Leblon        2      1       1    85   \n",
       "8680   Apartamento                  Botafogo        2      1       1    90   \n",
       "11146  Apartamento  Recreio dos Bandeirantes        4      2       4   190   \n",
       "8282   Apartamento  Recreio dos Bandeirantes        3      2       1   109   \n",
       "18410  Apartamento                 Península        2      2       2    98   \n",
       "17209  Apartamento                   Ipanema        4      1       1   250   \n",
       "11394  Apartamento               Laranjeiras        2      0       0    65   \n",
       "17686  Apartamento                      Leme        2      0       0    75   \n",
       "17932  Apartamento               São Conrado        2      2       2   110   \n",
       "12687  Apartamento                Copacabana        4      1       0   141   \n",
       "\n",
       "         Valor  Condominio    IPTU  Valor por m2 Tipo Agregado  \n",
       "13724   4000.0      1050.0   230.0         47.06   Apartamento  \n",
       "8680    3200.0       920.0   130.0         35.56   Apartamento  \n",
       "11146   3950.0      1290.0   300.0         20.79   Apartamento  \n",
       "8282    2500.0       842.0   192.0         22.94   Apartamento  \n",
       "18410   3200.0      1388.0   235.0         32.65   Apartamento  \n",
       "17209  12000.0      3795.0  7384.0         48.00   Apartamento  \n",
       "11394   2100.0       817.0    28.0         32.31   Apartamento  \n",
       "17686   2700.0       878.0     0.0         36.00   Apartamento  \n",
       "17932   4500.0      2357.0   735.0         40.91   Apartamento  \n",
       "12687   4500.0      1139.0   378.0         31.91   Apartamento  "
      ]
     },
     "execution_count": 3,
     "metadata": {},
     "output_type": "execute_result"
    }
   ],
   "source": [
    "dados.sample(10)"
   ]
  },
  {
   "cell_type": "code",
   "execution_count": 4,
   "id": "35ee2e52",
   "metadata": {},
   "outputs": [],
   "source": [
    "# criando uma distribuição de frequencia por valor:"
   ]
  },
  {
   "cell_type": "code",
   "execution_count": 8,
   "id": "35832dc6",
   "metadata": {},
   "outputs": [],
   "source": [
    "# criando uma lista de distribuição:\n",
    "# 0 a 2 quartos\n",
    "# 3 a 4 quartos\n",
    "# 5 a 6 quartos\n",
    "# 7 ou mais\n",
    "classes = [0,2,4,6,100] #utilizando valores máximos como limitadores"
   ]
  },
  {
   "cell_type": "code",
   "execution_count": 15,
   "id": "e47a54b3",
   "metadata": {},
   "outputs": [],
   "source": [
    "#distribuição usando .cut()\n",
    "\n",
    "quartos = pd.cut(dados['Quartos'], classes)"
   ]
  },
  {
   "cell_type": "code",
   "execution_count": 16,
   "id": "4b7cab91",
   "metadata": {},
   "outputs": [
    {
     "data": {
      "text/plain": [
       "15127    (2, 4]\n",
       "18696    (2, 4]\n",
       "13509    (0, 2]\n",
       "5009     (2, 4]\n",
       "16393    (0, 2]\n",
       "Name: Quartos, dtype: category\n",
       "Categories (4, interval[int64, right]): [(0, 2] < (2, 4] < (4, 6] < (6, 100]]"
      ]
     },
     "execution_count": 16,
     "metadata": {},
     "output_type": "execute_result"
    }
   ],
   "source": [
    "quartos.sample(5)"
   ]
  },
  {
   "cell_type": "code",
   "execution_count": 17,
   "id": "bc139927",
   "metadata": {},
   "outputs": [
    {
     "data": {
      "text/plain": [
       "(0, 2]      11722\n",
       "(2, 4]       9686\n",
       "(4, 6]        687\n",
       "(6, 100]       55\n",
       "Name: Quartos, dtype: int64"
      ]
     },
     "execution_count": 17,
     "metadata": {},
     "output_type": "execute_result"
    }
   ],
   "source": [
    "# verificando frequencia:\n",
    "\n",
    "pd.value_counts(quartos)"
   ]
  },
  {
   "cell_type": "code",
   "execution_count": 18,
   "id": "81e41fa9",
   "metadata": {},
   "outputs": [],
   "source": [
    "# (x,y] => ( significa que o X não está incluso, e o ] significa que o Y está incluso"
   ]
  },
  {
   "cell_type": "code",
   "execution_count": 19,
   "id": "7b87c185",
   "metadata": {},
   "outputs": [],
   "source": [
    "# configurando para melhore visualização:\n",
    "\n",
    "labels =['1 e 2 quartos', '3 e 4 quartos', '5 e 6 quartos', '7 ou mais quartos']"
   ]
  },
  {
   "cell_type": "code",
   "execution_count": 20,
   "id": "d4c83e1d",
   "metadata": {},
   "outputs": [],
   "source": [
    "quartos = pd.cut(dados['Quartos'], classes, labels = labels)"
   ]
  },
  {
   "cell_type": "code",
   "execution_count": 21,
   "id": "fba18a2e",
   "metadata": {},
   "outputs": [
    {
     "data": {
      "text/plain": [
       "1 e 2 quartos        11722\n",
       "3 e 4 quartos         9686\n",
       "5 e 6 quartos          687\n",
       "7 ou mais quartos       55\n",
       "Name: Quartos, dtype: int64"
      ]
     },
     "execution_count": 21,
     "metadata": {},
     "output_type": "execute_result"
    }
   ],
   "source": [
    "pd.value_counts(quartos)"
   ]
  },
  {
   "cell_type": "code",
   "execution_count": null,
   "id": "3ad02003",
   "metadata": {},
   "outputs": [],
   "source": []
  }
 ],
 "metadata": {
  "kernelspec": {
   "display_name": "Python 3 (ipykernel)",
   "language": "python",
   "name": "python3"
  },
  "language_info": {
   "codemirror_mode": {
    "name": "ipython",
    "version": 3
   },
   "file_extension": ".py",
   "mimetype": "text/x-python",
   "name": "python",
   "nbconvert_exporter": "python",
   "pygments_lexer": "ipython3",
   "version": "3.9.12"
  }
 },
 "nbformat": 4,
 "nbformat_minor": 5
}
