{
 "cells": [
  {
   "cell_type": "markdown",
   "id": "86249c13",
   "metadata": {},
   "source": [
    "# Identificando e removendo Outliers"
   ]
  },
  {
   "cell_type": "code",
   "execution_count": 1,
   "id": "631c63e7",
   "metadata": {},
   "outputs": [],
   "source": [
    "#configurando:\n",
    "%matplotlib inline\n",
    "import pandas as pd\n",
    "import matplotlib.pyplot as plt\n",
    "plt.rc('figure', figsize = (14,6))"
   ]
  },
  {
   "cell_type": "code",
   "execution_count": 4,
   "id": "1d730f27",
   "metadata": {},
   "outputs": [],
   "source": [
    "dados = pd.read_csv('dados_residencial_final_v3.csv', sep = ';')"
   ]
  },
  {
   "cell_type": "code",
   "execution_count": 5,
   "id": "8b470057",
   "metadata": {},
   "outputs": [
    {
     "data": {
      "text/html": [
       "<div>\n",
       "<style scoped>\n",
       "    .dataframe tbody tr th:only-of-type {\n",
       "        vertical-align: middle;\n",
       "    }\n",
       "\n",
       "    .dataframe tbody tr th {\n",
       "        vertical-align: top;\n",
       "    }\n",
       "\n",
       "    .dataframe thead th {\n",
       "        text-align: right;\n",
       "    }\n",
       "</style>\n",
       "<table border=\"1\" class=\"dataframe\">\n",
       "  <thead>\n",
       "    <tr style=\"text-align: right;\">\n",
       "      <th></th>\n",
       "      <th>Tipo</th>\n",
       "      <th>Bairro</th>\n",
       "      <th>Quartos</th>\n",
       "      <th>Vagas</th>\n",
       "      <th>Suites</th>\n",
       "      <th>Area</th>\n",
       "      <th>Valor</th>\n",
       "      <th>Condominio</th>\n",
       "      <th>IPTU</th>\n",
       "      <th>Valor por m2</th>\n",
       "      <th>Tipo Agregado</th>\n",
       "    </tr>\n",
       "  </thead>\n",
       "  <tbody>\n",
       "    <tr>\n",
       "      <th>7801</th>\n",
       "      <td>Apartamento</td>\n",
       "      <td>Barra da Tijuca</td>\n",
       "      <td>1</td>\n",
       "      <td>1</td>\n",
       "      <td>0</td>\n",
       "      <td>65</td>\n",
       "      <td>600000.0</td>\n",
       "      <td>980.0</td>\n",
       "      <td>120.0</td>\n",
       "      <td>9230.77</td>\n",
       "      <td>Apartamento</td>\n",
       "    </tr>\n",
       "    <tr>\n",
       "      <th>10872</th>\n",
       "      <td>Casa de Condomínio</td>\n",
       "      <td>Freguesia (Jacarepaguá)</td>\n",
       "      <td>4</td>\n",
       "      <td>2</td>\n",
       "      <td>3</td>\n",
       "      <td>163</td>\n",
       "      <td>800000.0</td>\n",
       "      <td>900.0</td>\n",
       "      <td>0.0</td>\n",
       "      <td>4907.98</td>\n",
       "      <td>Casa</td>\n",
       "    </tr>\n",
       "    <tr>\n",
       "      <th>12947</th>\n",
       "      <td>Apartamento</td>\n",
       "      <td>Freguesia (Jacarepaguá)</td>\n",
       "      <td>2</td>\n",
       "      <td>2</td>\n",
       "      <td>1</td>\n",
       "      <td>150</td>\n",
       "      <td>550000.0</td>\n",
       "      <td>850.0</td>\n",
       "      <td>150.0</td>\n",
       "      <td>3666.67</td>\n",
       "      <td>Apartamento</td>\n",
       "    </tr>\n",
       "    <tr>\n",
       "      <th>14152</th>\n",
       "      <td>Apartamento</td>\n",
       "      <td>Recreio dos Bandeirantes</td>\n",
       "      <td>3</td>\n",
       "      <td>2</td>\n",
       "      <td>1</td>\n",
       "      <td>167</td>\n",
       "      <td>1250000.0</td>\n",
       "      <td>1186.0</td>\n",
       "      <td>320.0</td>\n",
       "      <td>7485.03</td>\n",
       "      <td>Apartamento</td>\n",
       "    </tr>\n",
       "    <tr>\n",
       "      <th>15860</th>\n",
       "      <td>Apartamento</td>\n",
       "      <td>Botafogo</td>\n",
       "      <td>4</td>\n",
       "      <td>1</td>\n",
       "      <td>1</td>\n",
       "      <td>300</td>\n",
       "      <td>4500000.0</td>\n",
       "      <td>1100.0</td>\n",
       "      <td>0.0</td>\n",
       "      <td>15000.00</td>\n",
       "      <td>Apartamento</td>\n",
       "    </tr>\n",
       "  </tbody>\n",
       "</table>\n",
       "</div>"
      ],
      "text/plain": [
       "                     Tipo                    Bairro  Quartos  Vagas  Suites  \\\n",
       "7801          Apartamento           Barra da Tijuca        1      1       0   \n",
       "10872  Casa de Condomínio   Freguesia (Jacarepaguá)        4      2       3   \n",
       "12947         Apartamento   Freguesia (Jacarepaguá)        2      2       1   \n",
       "14152         Apartamento  Recreio dos Bandeirantes        3      2       1   \n",
       "15860         Apartamento                  Botafogo        4      1       1   \n",
       "\n",
       "       Area      Valor  Condominio   IPTU  Valor por m2 Tipo Agregado  \n",
       "7801     65   600000.0       980.0  120.0       9230.77   Apartamento  \n",
       "10872   163   800000.0       900.0    0.0       4907.98          Casa  \n",
       "12947   150   550000.0       850.0  150.0       3666.67   Apartamento  \n",
       "14152   167  1250000.0      1186.0  320.0       7485.03   Apartamento  \n",
       "15860   300  4500000.0      1100.0    0.0      15000.00   Apartamento  "
      ]
     },
     "execution_count": 5,
     "metadata": {},
     "output_type": "execute_result"
    }
   ],
   "source": [
    "# obtendo valores mais discrepantes:\n",
    "dados[dados['Valor'] >= 500000]"
   ]
  },
  {
   "cell_type": "code",
   "execution_count": 6,
   "id": "2a99bdb0",
   "metadata": {},
   "outputs": [],
   "source": [
    "# criando series Valor:\n",
    "\n",
    "valor = dados['Valor']"
   ]
  },
  {
   "cell_type": "markdown",
   "id": "bab026f7",
   "metadata": {},
   "source": [
    "<img src='boxplot.png' width=70%>"
   ]
  },
  {
   "cell_type": "code",
   "execution_count": 9,
   "id": "81fa68aa",
   "metadata": {},
   "outputs": [
    {
     "data": {
      "text/plain": [
       "1600.0"
      ]
     },
     "execution_count": 9,
     "metadata": {},
     "output_type": "execute_result"
    }
   ],
   "source": [
    "# criando os dados seguindo guia acima:\n",
    "\n",
    "Q1 = valor.quantile(.25)\n",
    "Q1 "
   ]
  },
  {
   "cell_type": "code",
   "execution_count": 10,
   "id": "8f3dc023",
   "metadata": {},
   "outputs": [
    {
     "data": {
      "text/plain": [
       "5500.0"
      ]
     },
     "execution_count": 10,
     "metadata": {},
     "output_type": "execute_result"
    }
   ],
   "source": [
    "Q3 = valor.quantile(.75)\n",
    "Q3"
   ]
  },
  {
   "cell_type": "code",
   "execution_count": 11,
   "id": "96d0d67e",
   "metadata": {},
   "outputs": [],
   "source": [
    "IIQ = Q3 - Q1"
   ]
  },
  {
   "cell_type": "code",
   "execution_count": 12,
   "id": "adc978da",
   "metadata": {},
   "outputs": [
    {
     "data": {
      "text/plain": [
       "3900.0"
      ]
     },
     "execution_count": 12,
     "metadata": {},
     "output_type": "execute_result"
    }
   ],
   "source": [
    "IIQ"
   ]
  },
  {
   "cell_type": "code",
   "execution_count": 14,
   "id": "bfd6f2f6",
   "metadata": {},
   "outputs": [
    {
     "data": {
      "text/plain": [
       "-4250.0"
      ]
     },
     "execution_count": 14,
     "metadata": {},
     "output_type": "execute_result"
    }
   ],
   "source": [
    "lower_limit = Q1 - (1.5* IIQ)\n",
    "lower_limit"
   ]
  },
  {
   "cell_type": "code",
   "execution_count": 16,
   "id": "2d666e3a",
   "metadata": {},
   "outputs": [
    {
     "data": {
      "text/plain": [
       "11350.0"
      ]
     },
     "execution_count": 16,
     "metadata": {},
     "output_type": "execute_result"
    }
   ],
   "source": [
    "higher_limit = Q3 + (1.5 * IIQ)\n",
    "higher_limit"
   ]
  },
  {
   "cell_type": "code",
   "execution_count": 17,
   "id": "19a6deec",
   "metadata": {},
   "outputs": [],
   "source": [
    "# selecionando dados apenas dentro dos limites:\n",
    "\n",
    "selecao = (valor >= lower_limit) & (valor <= higher_limit)\n",
    "dados_new = dados[selecao]"
   ]
  },
  {
   "cell_type": "code",
   "execution_count": 18,
   "id": "a04f5eb8",
   "metadata": {},
   "outputs": [
    {
     "data": {
      "text/html": [
       "<div>\n",
       "<style scoped>\n",
       "    .dataframe tbody tr th:only-of-type {\n",
       "        vertical-align: middle;\n",
       "    }\n",
       "\n",
       "    .dataframe tbody tr th {\n",
       "        vertical-align: top;\n",
       "    }\n",
       "\n",
       "    .dataframe thead th {\n",
       "        text-align: right;\n",
       "    }\n",
       "</style>\n",
       "<table border=\"1\" class=\"dataframe\">\n",
       "  <thead>\n",
       "    <tr style=\"text-align: right;\">\n",
       "      <th></th>\n",
       "      <th>Tipo</th>\n",
       "      <th>Bairro</th>\n",
       "      <th>Quartos</th>\n",
       "      <th>Vagas</th>\n",
       "      <th>Suites</th>\n",
       "      <th>Area</th>\n",
       "      <th>Valor</th>\n",
       "      <th>Condominio</th>\n",
       "      <th>IPTU</th>\n",
       "      <th>Valor por m2</th>\n",
       "      <th>Tipo Agregado</th>\n",
       "    </tr>\n",
       "  </thead>\n",
       "  <tbody>\n",
       "    <tr>\n",
       "      <th>0</th>\n",
       "      <td>Quitinete</td>\n",
       "      <td>Copacabana</td>\n",
       "      <td>1</td>\n",
       "      <td>0</td>\n",
       "      <td>0</td>\n",
       "      <td>40</td>\n",
       "      <td>1700.0</td>\n",
       "      <td>500.0</td>\n",
       "      <td>60.0</td>\n",
       "      <td>42.50</td>\n",
       "      <td>Apartamento</td>\n",
       "    </tr>\n",
       "    <tr>\n",
       "      <th>1</th>\n",
       "      <td>Casa</td>\n",
       "      <td>Jardim Botânico</td>\n",
       "      <td>2</td>\n",
       "      <td>0</td>\n",
       "      <td>1</td>\n",
       "      <td>100</td>\n",
       "      <td>7000.0</td>\n",
       "      <td>0.0</td>\n",
       "      <td>0.0</td>\n",
       "      <td>70.00</td>\n",
       "      <td>Casa</td>\n",
       "    </tr>\n",
       "    <tr>\n",
       "      <th>2</th>\n",
       "      <td>Apartamento</td>\n",
       "      <td>Centro</td>\n",
       "      <td>1</td>\n",
       "      <td>0</td>\n",
       "      <td>0</td>\n",
       "      <td>15</td>\n",
       "      <td>800.0</td>\n",
       "      <td>390.0</td>\n",
       "      <td>20.0</td>\n",
       "      <td>53.33</td>\n",
       "      <td>Apartamento</td>\n",
       "    </tr>\n",
       "    <tr>\n",
       "      <th>3</th>\n",
       "      <td>Apartamento</td>\n",
       "      <td>Higienópolis</td>\n",
       "      <td>1</td>\n",
       "      <td>0</td>\n",
       "      <td>0</td>\n",
       "      <td>48</td>\n",
       "      <td>800.0</td>\n",
       "      <td>230.0</td>\n",
       "      <td>0.0</td>\n",
       "      <td>16.67</td>\n",
       "      <td>Apartamento</td>\n",
       "    </tr>\n",
       "    <tr>\n",
       "      <th>4</th>\n",
       "      <td>Apartamento</td>\n",
       "      <td>Cachambi</td>\n",
       "      <td>2</td>\n",
       "      <td>0</td>\n",
       "      <td>0</td>\n",
       "      <td>50</td>\n",
       "      <td>1300.0</td>\n",
       "      <td>301.0</td>\n",
       "      <td>17.0</td>\n",
       "      <td>26.00</td>\n",
       "      <td>Apartamento</td>\n",
       "    </tr>\n",
       "    <tr>\n",
       "      <th>...</th>\n",
       "      <td>...</td>\n",
       "      <td>...</td>\n",
       "      <td>...</td>\n",
       "      <td>...</td>\n",
       "      <td>...</td>\n",
       "      <td>...</td>\n",
       "      <td>...</td>\n",
       "      <td>...</td>\n",
       "      <td>...</td>\n",
       "      <td>...</td>\n",
       "      <td>...</td>\n",
       "    </tr>\n",
       "    <tr>\n",
       "      <th>22307</th>\n",
       "      <td>Apartamento</td>\n",
       "      <td>Méier</td>\n",
       "      <td>2</td>\n",
       "      <td>0</td>\n",
       "      <td>0</td>\n",
       "      <td>70</td>\n",
       "      <td>900.0</td>\n",
       "      <td>490.0</td>\n",
       "      <td>48.0</td>\n",
       "      <td>12.86</td>\n",
       "      <td>Apartamento</td>\n",
       "    </tr>\n",
       "    <tr>\n",
       "      <th>22308</th>\n",
       "      <td>Quitinete</td>\n",
       "      <td>Centro</td>\n",
       "      <td>0</td>\n",
       "      <td>0</td>\n",
       "      <td>0</td>\n",
       "      <td>27</td>\n",
       "      <td>800.0</td>\n",
       "      <td>350.0</td>\n",
       "      <td>25.0</td>\n",
       "      <td>29.63</td>\n",
       "      <td>Apartamento</td>\n",
       "    </tr>\n",
       "    <tr>\n",
       "      <th>22309</th>\n",
       "      <td>Apartamento</td>\n",
       "      <td>Jacarepaguá</td>\n",
       "      <td>3</td>\n",
       "      <td>1</td>\n",
       "      <td>2</td>\n",
       "      <td>78</td>\n",
       "      <td>1800.0</td>\n",
       "      <td>800.0</td>\n",
       "      <td>40.0</td>\n",
       "      <td>23.08</td>\n",
       "      <td>Apartamento</td>\n",
       "    </tr>\n",
       "    <tr>\n",
       "      <th>22310</th>\n",
       "      <td>Apartamento</td>\n",
       "      <td>São Francisco Xavier</td>\n",
       "      <td>2</td>\n",
       "      <td>1</td>\n",
       "      <td>0</td>\n",
       "      <td>48</td>\n",
       "      <td>1400.0</td>\n",
       "      <td>509.0</td>\n",
       "      <td>37.0</td>\n",
       "      <td>29.17</td>\n",
       "      <td>Apartamento</td>\n",
       "    </tr>\n",
       "    <tr>\n",
       "      <th>22311</th>\n",
       "      <td>Apartamento</td>\n",
       "      <td>Leblon</td>\n",
       "      <td>2</td>\n",
       "      <td>0</td>\n",
       "      <td>0</td>\n",
       "      <td>70</td>\n",
       "      <td>3000.0</td>\n",
       "      <td>760.0</td>\n",
       "      <td>0.0</td>\n",
       "      <td>42.86</td>\n",
       "      <td>Apartamento</td>\n",
       "    </tr>\n",
       "  </tbody>\n",
       "</table>\n",
       "<p>20276 rows × 11 columns</p>\n",
       "</div>"
      ],
      "text/plain": [
       "              Tipo                Bairro  Quartos  Vagas  Suites  Area  \\\n",
       "0        Quitinete            Copacabana        1      0       0    40   \n",
       "1             Casa       Jardim Botânico        2      0       1   100   \n",
       "2      Apartamento                Centro        1      0       0    15   \n",
       "3      Apartamento          Higienópolis        1      0       0    48   \n",
       "4      Apartamento              Cachambi        2      0       0    50   \n",
       "...            ...                   ...      ...    ...     ...   ...   \n",
       "22307  Apartamento                 Méier        2      0       0    70   \n",
       "22308    Quitinete                Centro        0      0       0    27   \n",
       "22309  Apartamento           Jacarepaguá        3      1       2    78   \n",
       "22310  Apartamento  São Francisco Xavier        2      1       0    48   \n",
       "22311  Apartamento                Leblon        2      0       0    70   \n",
       "\n",
       "        Valor  Condominio  IPTU  Valor por m2 Tipo Agregado  \n",
       "0      1700.0       500.0  60.0         42.50   Apartamento  \n",
       "1      7000.0         0.0   0.0         70.00          Casa  \n",
       "2       800.0       390.0  20.0         53.33   Apartamento  \n",
       "3       800.0       230.0   0.0         16.67   Apartamento  \n",
       "4      1300.0       301.0  17.0         26.00   Apartamento  \n",
       "...       ...         ...   ...           ...           ...  \n",
       "22307   900.0       490.0  48.0         12.86   Apartamento  \n",
       "22308   800.0       350.0  25.0         29.63   Apartamento  \n",
       "22309  1800.0       800.0  40.0         23.08   Apartamento  \n",
       "22310  1400.0       509.0  37.0         29.17   Apartamento  \n",
       "22311  3000.0       760.0   0.0         42.86   Apartamento  \n",
       "\n",
       "[20276 rows x 11 columns]"
      ]
     },
     "execution_count": 18,
     "metadata": {},
     "output_type": "execute_result"
    }
   ],
   "source": [
    "dados_new"
   ]
  },
  {
   "cell_type": "code",
   "execution_count": 22,
   "id": "dcbbcadf",
   "metadata": {},
   "outputs": [
    {
     "data": {
      "text/plain": [
       "<AxesSubplot:>"
      ]
     },
     "execution_count": 22,
     "metadata": {},
     "output_type": "execute_result"
    },
    {
     "data": {
      "image/png": "[encoded data removed]",
      "text/plain": [
       "<Figure size 1008x432 with 1 Axes>"
      ]
     },
     "metadata": {
      "needs_background": "light"
     },
     "output_type": "display_data"
    }
   ],
   "source": [
    "# graficos antes e depois:\n",
    "dados.boxplot(['Valor'])\n",
    "# Antes"
   ]
  },
  {
   "cell_type": "code",
   "execution_count": 23,
   "id": "31125d69",
   "metadata": {},
   "outputs": [
    {
     "data": {
      "text/plain": [
       "<AxesSubplot:>"
      ]
     },
     "execution_count": 23,
     "metadata": {},
     "output_type": "execute_result"
    },
    {
     "data": {
      "image/png": "[encoded data removed]",
      "text/plain": [
       "<Figure size 1008x432 with 1 Axes>"
      ]
     },
     "metadata": {
      "needs_background": "light"
     },
     "output_type": "display_data"
    }
   ],
   "source": [
    "# depois:\n",
    "\n",
    "dados_new.boxplot(['Valor'])"
   ]
  },
  {
   "cell_type": "code",
   "execution_count": 24,
   "id": "64297e0b",
   "metadata": {},
   "outputs": [
    {
     "data": {
      "text/plain": [
       "array([[<AxesSubplot:title={'center':'Valor'}>]], dtype=object)"
      ]
     },
     "execution_count": 24,
     "metadata": {},
     "output_type": "execute_result"
    },
    {
     "data": {
      "image/png": "[encoded data removed]",
      "text/plain": [
       "<Figure size 1008x432 with 1 Axes>"
      ]
     },
     "metadata": {
      "needs_background": "light"
     },
     "output_type": "display_data"
    }
   ],
   "source": [
    "# analisando histograma: \n",
    "#Antes:\n",
    "\n",
    "dados.hist(['Valor'])"
   ]
  },
  {
   "cell_type": "code",
   "execution_count": 25,
   "id": "1a0f5f6a",
   "metadata": {},
   "outputs": [
    {
     "data": {
      "text/plain": [
       "array([[<AxesSubplot:title={'center':'Valor'}>]], dtype=object)"
      ]
     },
     "execution_count": 25,
     "metadata": {},
     "output_type": "execute_result"
    },
    {
     "data": {
      "image/png": "[encoded data removed]",
      "text/plain": [
       "<Figure size 1008x432 with 1 Axes>"
      ]
     },
     "metadata": {
      "needs_background": "light"
     },
     "output_type": "display_data"
    }
   ],
   "source": [
    "#depois:\n",
    "\n",
    "dados_new.hist(['Valor'])"
   ]
  },
  {
   "cell_type": "code",
   "execution_count": 26,
   "id": "4b98891e",
   "metadata": {},
   "outputs": [
    {
     "data": {
      "text/plain": [
       "<AxesSubplot:title={'center':'Valor'}, xlabel='[Tipo]'>"
      ]
     },
     "execution_count": 26,
     "metadata": {},
     "output_type": "execute_result"
    },
    {
     "data": {
      "image/png": "[encoded data removed]",
      "text/plain": [
       "<Figure size 1008x432 with 1 Axes>"
      ]
     },
     "metadata": {
      "needs_background": "light"
     },
     "output_type": "display_data"
    }
   ],
   "source": [
    "# descobrindo Outliers por bairros:\n",
    "\n",
    "dados.boxplot(['Valor'], by = ['Tipo'])"
   ]
  },
  {
   "cell_type": "code",
   "execution_count": 27,
   "id": "1bac0ff3",
   "metadata": {},
   "outputs": [],
   "source": [
    "# uma variavel = Series / um conjunto de Series = DataFrame"
   ]
  },
  {
   "cell_type": "code",
   "execution_count": 28,
   "id": "01b8c87f",
   "metadata": {},
   "outputs": [],
   "source": [
    "grupo_tipo = dados.groupby('Tipo')['Valor']"
   ]
  },
  {
   "cell_type": "code",
   "execution_count": 29,
   "id": "6a49eedf",
   "metadata": {},
   "outputs": [],
   "source": [
    "# definindo quartis por tipo:\n",
    "\n",
    "Q1 = grupo_tipo.quantile(.25)\n",
    "Q3 = grupo_tipo.quantile(.75)\n",
    "IIQ = Q3 - Q1\n",
    "lower_limit = Q1 - (1.5 * IIQ)\n",
    "higher_limit = Q3 + (1.5 * IIQ)"
   ]
  },
  {
   "cell_type": "code",
   "execution_count": 30,
   "id": "72e1539c",
   "metadata": {},
   "outputs": [
    {
     "data": {
      "text/plain": [
       "Tipo\n",
       "Apartamento           1700.0\n",
       "Casa                  1100.0\n",
       "Casa de Condomínio    4000.0\n",
       "Casa de Vila           750.0\n",
       "Flat                  2500.0\n",
       "Quitinete              900.0\n",
       "Sítio                 9750.0\n",
       "Name: Valor, dtype: float64"
      ]
     },
     "execution_count": 30,
     "metadata": {},
     "output_type": "execute_result"
    }
   ],
   "source": [
    "Q1 "
   ]
  },
  {
   "cell_type": "code",
   "execution_count": 31,
   "id": "9b2522c9",
   "metadata": {},
   "outputs": [
    {
     "data": {
      "text/plain": [
       "Tipo\n",
       "Apartamento            5000.0\n",
       "Casa                   9800.0\n",
       "Casa de Condomínio    15250.0\n",
       "Casa de Vila           1800.0\n",
       "Flat                   6000.0\n",
       "Quitinete              1500.0\n",
       "Sítio                 15000.0\n",
       "Name: Valor, dtype: float64"
      ]
     },
     "execution_count": 31,
     "metadata": {},
     "output_type": "execute_result"
    }
   ],
   "source": [
    "Q3"
   ]
  },
  {
   "cell_type": "code",
   "execution_count": 32,
   "id": "66085e04",
   "metadata": {},
   "outputs": [
    {
     "data": {
      "text/plain": [
       "Tipo\n",
       "Apartamento           -3250.0\n",
       "Casa                 -11950.0\n",
       "Casa de Condomínio   -12875.0\n",
       "Casa de Vila           -825.0\n",
       "Flat                  -2750.0\n",
       "Quitinete                 0.0\n",
       "Sítio                  1875.0\n",
       "Name: Valor, dtype: float64"
      ]
     },
     "execution_count": 32,
     "metadata": {},
     "output_type": "execute_result"
    }
   ],
   "source": [
    "lower_limit "
   ]
  },
  {
   "cell_type": "code",
   "execution_count": 33,
   "id": "8d548b1d",
   "metadata": {},
   "outputs": [
    {
     "data": {
      "text/plain": [
       "Tipo\n",
       "Apartamento            9950.0\n",
       "Casa                  22850.0\n",
       "Casa de Condomínio    32125.0\n",
       "Casa de Vila           3375.0\n",
       "Flat                  11250.0\n",
       "Quitinete              2400.0\n",
       "Sítio                 22875.0\n",
       "Name: Valor, dtype: float64"
      ]
     },
     "execution_count": 33,
     "metadata": {},
     "output_type": "execute_result"
    }
   ],
   "source": [
    "higher_limit "
   ]
  },
  {
   "cell_type": "code",
   "execution_count": 34,
   "id": "31f253d8",
   "metadata": {},
   "outputs": [
    {
     "data": {
      "text/plain": [
       "22850.0"
      ]
     },
     "execution_count": 34,
     "metadata": {},
     "output_type": "execute_result"
    }
   ],
   "source": [
    "# selecionando elementos por tipo:\n",
    "\n",
    "higher_limit['Casa']"
   ]
  },
  {
   "cell_type": "code",
   "execution_count": 35,
   "id": "adaaf5fd",
   "metadata": {},
   "outputs": [
    {
     "name": "stdout",
     "output_type": "stream",
     "text": [
      "Apartamento\n",
      "Casa\n",
      "Casa de Condomínio\n",
      "Casa de Vila\n",
      "Flat\n",
      "Quitinete\n",
      "Sítio\n"
     ]
    }
   ],
   "source": [
    "# identificando dados discrepantes por tipos:\n",
    "\n",
    "for tipo in grupo_tipo.groups.keys():\n",
    "    print (tipo)"
   ]
  },
  {
   "cell_type": "code",
   "execution_count": 41,
   "id": "fb5e9b23",
   "metadata": {},
   "outputs": [],
   "source": [
    "# trabalhando com 'Valor'e 'Tipo' e armazenando em um novo dataframe concatenando as informações\n",
    "\n",
    "dados_new = pd.DataFrame()\n",
    "for tipo in grupo_tipo.groups.keys():\n",
    "    eh_tipo = dados['Tipo'] == tipo\n",
    "    eh_dentro_limite = (dados['Valor'] >= lower_limit[tipo]) & (dados['Valor'] <= higher_limit[tipo])\n",
    "    selecao = eh_tipo & eh_dentro_limite\n",
    "    dados_selecao = dados[selecao]\n",
    "    dados_new = pd.concat([dados_new, dados_selecao])"
   ]
  },
  {
   "cell_type": "code",
   "execution_count": 42,
   "id": "c5eed549",
   "metadata": {},
   "outputs": [
    {
     "data": {
      "text/plain": [
       "<AxesSubplot:title={'center':'Valor'}, xlabel='[Tipo]'>"
      ]
     },
     "execution_count": 42,
     "metadata": {},
     "output_type": "execute_result"
    },
    {
     "data": {
      "image/png": "[encoded data removed]",
      "text/plain": [
       "<Figure size 1008x432 with 1 Axes>"
      ]
     },
     "metadata": {
      "needs_background": "light"
     },
     "output_type": "display_data"
    }
   ],
   "source": [
    "#plotando novo gráfico desvio padrao por tipo:\n",
    "dados_new.boxplot(['Valor'], by = ['Tipo'])"
   ]
  },
  {
   "cell_type": "code",
   "execution_count": 43,
   "id": "4ceaffbf",
   "metadata": {},
   "outputs": [],
   "source": [
    "# aqui temos uma análise mais fina, onde o limite superior para 'Casa de condomínio'por exemplo, é superior aos demais"
   ]
  },
  {
   "cell_type": "code",
   "execution_count": 44,
   "id": "9e631a0f",
   "metadata": {},
   "outputs": [],
   "source": [
    "# exportando dados limpos:\n",
    "dados_new.to_csv('dados_residencial_final_v4.csv', sep = ';', index = False)"
   ]
  },
  {
   "cell_type": "code",
   "execution_count": null,
   "id": "df5ef89f",
   "metadata": {},
   "outputs": [],
   "source": []
  }
 ],
 "metadata": {
  "kernelspec": {
   "display_name": "Python 3 (ipykernel)",
   "language": "python",
   "name": "python3"
  },
  "language_info": {
   "codemirror_mode": {
    "name": "ipython",
    "version": 3
   },
   "file_extension": ".py",
   "mimetype": "text/x-python",
   "name": "python",
   "nbconvert_exporter": "python",
   "pygments_lexer": "ipython3",
   "version": "3.9.12"
  }
 },
 "nbformat": 4,
 "nbformat_minor": 5
}
