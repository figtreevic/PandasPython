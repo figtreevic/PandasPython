{
 "cells": [
  {
   "cell_type": "markdown",
   "id": "75d58847",
   "metadata": {},
   "source": [
    "# Gráficos com matplotlib"
   ]
  },
  {
   "cell_type": "code",
   "execution_count": 34,
   "id": "a9128954",
   "metadata": {},
   "outputs": [],
   "source": [
    "%matplotlib inline\n",
    "import pandas as pd\n",
    "import matplotlib.pyplot as plt\n",
    "plt.rc('figure', figsize = (15, 8))"
   ]
  },
  {
   "cell_type": "code",
   "execution_count": 35,
   "id": "21a0fc3e",
   "metadata": {},
   "outputs": [],
   "source": [
    "dados = pd.read_csv('dados_residencial_final_v4.csv', sep =';')"
   ]
  },
  {
   "cell_type": "code",
   "execution_count": 36,
   "id": "6e276892",
   "metadata": {},
   "outputs": [
    {
     "data": {
      "text/html": [
       "<div>\n",
       "<style scoped>\n",
       "    .dataframe tbody tr th:only-of-type {\n",
       "        vertical-align: middle;\n",
       "    }\n",
       "\n",
       "    .dataframe tbody tr th {\n",
       "        vertical-align: top;\n",
       "    }\n",
       "\n",
       "    .dataframe thead th {\n",
       "        text-align: right;\n",
       "    }\n",
       "</style>\n",
       "<table border=\"1\" class=\"dataframe\">\n",
       "  <thead>\n",
       "    <tr style=\"text-align: right;\">\n",
       "      <th></th>\n",
       "      <th>Tipo</th>\n",
       "      <th>Bairro</th>\n",
       "      <th>Quartos</th>\n",
       "      <th>Vagas</th>\n",
       "      <th>Suites</th>\n",
       "      <th>Area</th>\n",
       "      <th>Valor</th>\n",
       "      <th>Condominio</th>\n",
       "      <th>IPTU</th>\n",
       "      <th>Valor por m2</th>\n",
       "      <th>Tipo Agregado</th>\n",
       "    </tr>\n",
       "  </thead>\n",
       "  <tbody>\n",
       "    <tr>\n",
       "      <th>657</th>\n",
       "      <td>Apartamento</td>\n",
       "      <td>Tijuca</td>\n",
       "      <td>3</td>\n",
       "      <td>0</td>\n",
       "      <td>3</td>\n",
       "      <td>110</td>\n",
       "      <td>2800.0</td>\n",
       "      <td>250.0</td>\n",
       "      <td>235.0</td>\n",
       "      <td>25.45</td>\n",
       "      <td>Apartamento</td>\n",
       "    </tr>\n",
       "    <tr>\n",
       "      <th>12892</th>\n",
       "      <td>Apartamento</td>\n",
       "      <td>Barra da Tijuca</td>\n",
       "      <td>2</td>\n",
       "      <td>2</td>\n",
       "      <td>2</td>\n",
       "      <td>85</td>\n",
       "      <td>2800.0</td>\n",
       "      <td>2800.0</td>\n",
       "      <td>400.0</td>\n",
       "      <td>32.94</td>\n",
       "      <td>Apartamento</td>\n",
       "    </tr>\n",
       "    <tr>\n",
       "      <th>1418</th>\n",
       "      <td>Apartamento</td>\n",
       "      <td>Barra da Tijuca</td>\n",
       "      <td>2</td>\n",
       "      <td>1</td>\n",
       "      <td>1</td>\n",
       "      <td>88</td>\n",
       "      <td>1900.0</td>\n",
       "      <td>1350.0</td>\n",
       "      <td>150.0</td>\n",
       "      <td>21.59</td>\n",
       "      <td>Apartamento</td>\n",
       "    </tr>\n",
       "    <tr>\n",
       "      <th>11993</th>\n",
       "      <td>Apartamento</td>\n",
       "      <td>Jardim Guanabara</td>\n",
       "      <td>3</td>\n",
       "      <td>0</td>\n",
       "      <td>1</td>\n",
       "      <td>80</td>\n",
       "      <td>1900.0</td>\n",
       "      <td>480.0</td>\n",
       "      <td>750.0</td>\n",
       "      <td>23.75</td>\n",
       "      <td>Apartamento</td>\n",
       "    </tr>\n",
       "    <tr>\n",
       "      <th>10656</th>\n",
       "      <td>Apartamento</td>\n",
       "      <td>Taquara</td>\n",
       "      <td>3</td>\n",
       "      <td>1</td>\n",
       "      <td>0</td>\n",
       "      <td>89</td>\n",
       "      <td>900.0</td>\n",
       "      <td>598.0</td>\n",
       "      <td>0.0</td>\n",
       "      <td>10.11</td>\n",
       "      <td>Apartamento</td>\n",
       "    </tr>\n",
       "    <tr>\n",
       "      <th>4851</th>\n",
       "      <td>Apartamento</td>\n",
       "      <td>Península</td>\n",
       "      <td>2</td>\n",
       "      <td>2</td>\n",
       "      <td>1</td>\n",
       "      <td>75</td>\n",
       "      <td>3500.0</td>\n",
       "      <td>1350.0</td>\n",
       "      <td>160.0</td>\n",
       "      <td>46.67</td>\n",
       "      <td>Apartamento</td>\n",
       "    </tr>\n",
       "    <tr>\n",
       "      <th>6870</th>\n",
       "      <td>Apartamento</td>\n",
       "      <td>Flamengo</td>\n",
       "      <td>2</td>\n",
       "      <td>1</td>\n",
       "      <td>0</td>\n",
       "      <td>90</td>\n",
       "      <td>3000.0</td>\n",
       "      <td>550.0</td>\n",
       "      <td>0.0</td>\n",
       "      <td>33.33</td>\n",
       "      <td>Apartamento</td>\n",
       "    </tr>\n",
       "    <tr>\n",
       "      <th>12093</th>\n",
       "      <td>Apartamento</td>\n",
       "      <td>Copacabana</td>\n",
       "      <td>3</td>\n",
       "      <td>0</td>\n",
       "      <td>0</td>\n",
       "      <td>117</td>\n",
       "      <td>2300.0</td>\n",
       "      <td>1222.0</td>\n",
       "      <td>0.0</td>\n",
       "      <td>19.66</td>\n",
       "      <td>Apartamento</td>\n",
       "    </tr>\n",
       "    <tr>\n",
       "      <th>2645</th>\n",
       "      <td>Apartamento</td>\n",
       "      <td>Jacarepaguá</td>\n",
       "      <td>3</td>\n",
       "      <td>1</td>\n",
       "      <td>2</td>\n",
       "      <td>98</td>\n",
       "      <td>3500.0</td>\n",
       "      <td>600.0</td>\n",
       "      <td>0.0</td>\n",
       "      <td>35.71</td>\n",
       "      <td>Apartamento</td>\n",
       "    </tr>\n",
       "    <tr>\n",
       "      <th>6047</th>\n",
       "      <td>Apartamento</td>\n",
       "      <td>Tijuca</td>\n",
       "      <td>2</td>\n",
       "      <td>1</td>\n",
       "      <td>0</td>\n",
       "      <td>60</td>\n",
       "      <td>1500.0</td>\n",
       "      <td>585.0</td>\n",
       "      <td>0.0</td>\n",
       "      <td>25.00</td>\n",
       "      <td>Apartamento</td>\n",
       "    </tr>\n",
       "  </tbody>\n",
       "</table>\n",
       "</div>"
      ],
      "text/plain": [
       "              Tipo            Bairro  Quartos  Vagas  Suites  Area   Valor  \\\n",
       "657    Apartamento            Tijuca        3      0       3   110  2800.0   \n",
       "12892  Apartamento   Barra da Tijuca        2      2       2    85  2800.0   \n",
       "1418   Apartamento   Barra da Tijuca        2      1       1    88  1900.0   \n",
       "11993  Apartamento  Jardim Guanabara        3      0       1    80  1900.0   \n",
       "10656  Apartamento           Taquara        3      1       0    89   900.0   \n",
       "4851   Apartamento         Península        2      2       1    75  3500.0   \n",
       "6870   Apartamento          Flamengo        2      1       0    90  3000.0   \n",
       "12093  Apartamento        Copacabana        3      0       0   117  2300.0   \n",
       "2645   Apartamento       Jacarepaguá        3      1       2    98  3500.0   \n",
       "6047   Apartamento            Tijuca        2      1       0    60  1500.0   \n",
       "\n",
       "       Condominio   IPTU  Valor por m2 Tipo Agregado  \n",
       "657         250.0  235.0         25.45   Apartamento  \n",
       "12892      2800.0  400.0         32.94   Apartamento  \n",
       "1418       1350.0  150.0         21.59   Apartamento  \n",
       "11993       480.0  750.0         23.75   Apartamento  \n",
       "10656       598.0    0.0         10.11   Apartamento  \n",
       "4851       1350.0  160.0         46.67   Apartamento  \n",
       "6870        550.0    0.0         33.33   Apartamento  \n",
       "12093      1222.0    0.0         19.66   Apartamento  \n",
       "2645        600.0    0.0         35.71   Apartamento  \n",
       "6047        585.0    0.0         25.00   Apartamento  "
      ]
     },
     "execution_count": 36,
     "metadata": {},
     "output_type": "execute_result"
    }
   ],
   "source": [
    "dados.sample(10)"
   ]
  },
  {
   "cell_type": "code",
   "execution_count": 37,
   "id": "aa2f96eb",
   "metadata": {},
   "outputs": [],
   "source": [
    "# criando uma figura:"
   ]
  },
  {
   "cell_type": "code",
   "execution_count": 38,
   "id": "6de229da",
   "metadata": {},
   "outputs": [
    {
     "data": {
      "text/plain": [
       "<Figure size 1080x576 with 0 Axes>"
      ]
     },
     "metadata": {},
     "output_type": "display_data"
    }
   ],
   "source": [
    "area = plt.figure()"
   ]
  },
  {
   "cell_type": "code",
   "execution_count": 39,
   "id": "59e0e3c9",
   "metadata": {},
   "outputs": [],
   "source": [
    "#informando que serão quatro gráficos, com 2 linhas 2 colunas e o g1 ficará na primeira posição\n",
    "g1 = area.add_subplot(2, 2, 1)  \n",
    "g2 = area.add_subplot(2, 2, 2)\n",
    "g3 = area.add_subplot(2, 2, 3)\n",
    "g4 = area.add_subplot(2, 2, 4)"
   ]
  },
  {
   "cell_type": "code",
   "execution_count": 40,
   "id": "19d5c193",
   "metadata": {},
   "outputs": [
    {
     "data": {
      "text/plain": [
       "Text(0.5, 1.0, 'Valor médio por (Tipo)')"
      ]
     },
     "execution_count": 40,
     "metadata": {},
     "output_type": "execute_result"
    }
   ],
   "source": [
    "# criando gráfico de dispersão usando .scatter()\n",
    "g1.scatter(dados['Valor'], dados['Area'])\n",
    "g1.set_title('Valor x Área')\n",
    "\n",
    "g2.hist(dados['Valor'])\n",
    "g2.set_title('Histograma Valor')\n",
    "\n",
    "dados_g3 = dados['Valor'].sample(100)\n",
    "dados_g3.index = range(dados_g3.shape[0])\n",
    "g3.plot(dados_g3)\n",
    "g3.set_title('Amostra (Valor)')\n",
    "\n",
    "grupo = dados.groupby('Tipo')['Valor']\n",
    "label = grupo.mean().index\n",
    "valores = grupo.mean().values\n",
    "g4.bar(label, valores)\n",
    "g4.set_title('Valor médio por (Tipo)')\n"
   ]
  },
  {
   "cell_type": "code",
   "execution_count": 41,
   "id": "f4a02627",
   "metadata": {
    "scrolled": true
   },
   "outputs": [
    {
     "data": {
      "image/png": "[encoded data removed]",
      "text/plain": [
       "<Figure size 1080x576 with 4 Axes>"
      ]
     },
     "execution_count": 41,
     "metadata": {},
     "output_type": "execute_result"
    }
   ],
   "source": [
    "area"
   ]
  },
  {
   "cell_type": "code",
   "execution_count": 42,
   "id": "ecf050f5",
   "metadata": {},
   "outputs": [],
   "source": [
    "# area = '' # limpeza pois do contrário o programa criará gráficos sobre gráficos"
   ]
  },
  {
   "cell_type": "code",
   "execution_count": 43,
   "id": "2124c237",
   "metadata": {},
   "outputs": [],
   "source": [
    "# para salvar figura:\n",
    "#bbox_inches: 'tight'regira o excesso de area branca ao redor do grafico\n",
    "\n",
    "area.savefig('grafico.png', dpi = 300, bbox_inches = 'tight')"
   ]
  },
  {
   "cell_type": "code",
   "execution_count": null,
   "id": "ff2cb09b",
   "metadata": {},
   "outputs": [],
   "source": []
  }
 ],
 "metadata": {
  "kernelspec": {
   "display_name": "Python 3 (ipykernel)",
   "language": "python",
   "name": "python3"
  },
  "language_info": {
   "codemirror_mode": {
    "name": "ipython",
    "version": 3
   },
   "file_extension": ".py",
   "mimetype": "text/x-python",
   "name": "python",
   "nbconvert_exporter": "python",
   "pygments_lexer": "ipython3",
   "version": "3.9.12"
  }
 },
 "nbformat": 4,
 "nbformat_minor": 5
}
